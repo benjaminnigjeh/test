{
  "nbformat": 4,
  "nbformat_minor": 0,
  "metadata": {
    "colab": {
      "provenance": [],
      "authorship_tag": "ABX9TyP3LMoAMf1J0DObiJccEYH4",
      "include_colab_link": true
    },
    "kernelspec": {
      "name": "python3",
      "display_name": "Python 3"
    },
    "language_info": {
      "name": "python"
    }
  },
  "cells": [
    {
      "cell_type": "markdown",
      "metadata": {
        "id": "view-in-github",
        "colab_type": "text"
      },
      "source": [
        "<a href=\"https://colab.research.google.com/github/benjaminnigjeh/test/blob/master/Untitled21.ipynb\" target=\"_parent\"><img src=\"https://colab.research.google.com/assets/colab-badge.svg\" alt=\"Open In Colab\"/></a>"
      ]
    },
    {
      "cell_type": "code",
      "source": [
        "import pandas as pd\n",
        "\n",
        "a= pd.read_csv('https://raw.githubusercontent.com/benjaminnigjeh/test/master/google1.csv')\n",
        "\n",
        "print(a)"
      ],
      "metadata": {
        "id": "cout0IsTwPKS",
        "outputId": "0a7e560e-9af3-4444-a37e-474b0540cad2",
        "colab": {
          "base_uri": "https://localhost:8080/"
        }
      },
      "execution_count": null,
      "outputs": [
        {
          "output_type": "stream",
          "name": "stdout",
          "text": [
            "  person  heught  weight  age\n",
            "0      a       2       4    6\n",
            "1      b       3       3    4\n",
            "2      c       4       2    2\n",
            "3      d       5       1    1\n"
          ]
        }
      ]
    }
  ]
}